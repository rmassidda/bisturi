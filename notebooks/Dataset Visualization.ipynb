{
 "cells": [
  {
   "cell_type": "markdown",
   "id": "d20d9ab7-3b23-4de8-b5d2-8b9162203611",
   "metadata": {},
   "source": [
    "# Dataset Analysis"
   ]
  },
  {
   "cell_type": "markdown",
   "id": "60e1f6c0-3c35-49fa-bfb1-c12789466fee",
   "metadata": {},
   "source": [
    "Install Bisturi."
   ]
  },
  {
   "cell_type": "code",
   "execution_count": null,
   "id": "99508b5e-dd63-4ed9-a8f6-1708f0fdcddb",
   "metadata": {},
   "outputs": [],
   "source": [
    "!pip -q install .."
   ]
  },
  {
   "cell_type": "code",
   "execution_count": null,
   "id": "92b9acc1-1ce9-4025-992b-256fcae6d534",
   "metadata": {},
   "outputs": [],
   "source": [
    "basepath = None"
   ]
  },
  {
   "cell_type": "markdown",
   "id": "63ba863b-4046-4935-b401-8e66468cf64f",
   "metadata": {},
   "source": [
    "Load the **Broden** dataset."
   ]
  },
  {
   "cell_type": "code",
   "execution_count": null,
   "id": "dc8521e4-18d0-4b48-92e4-20b69113b998",
   "metadata": {
    "tags": []
   },
   "outputs": [],
   "source": [
    "from bisturi.dataset.broden import BrodenDataset\n",
    "from bisturi.dataset.broden import BrodenOntology\n",
    "import os\n",
    "\n",
    "dset_path = os.path.join(basepath, 'datasets/broden1_224/')\n",
    "ontology = BrodenOntology(dset_path)\n",
    "dset = BrodenDataset(dset_path, mean=[1,1,1], std=[1,1,1], ontology=ontology)\n",
    "concepts = ontology.to_list()"
   ]
  },
  {
   "cell_type": "markdown",
   "id": "67afa6f2-7bb9-4f58-954d-c8e21b87b06d",
   "metadata": {},
   "source": [
    "Load the **ImageNet** dataset."
   ]
  },
  {
   "cell_type": "code",
   "execution_count": null,
   "id": "52b9fb08-869c-4f56-a6c7-851cebc21a09",
   "metadata": {},
   "outputs": [],
   "source": [
    "from bisturi.dataset.imagenet import ImageNetDataset\n",
    "from bisturi.dataset.imagenet import ImageNetOntology\n",
    "\n",
    "dset_path = basepath + 'datasets/ilsvrc2011/'\n",
    "ontology = ImageNetOntology(dset_path)\n",
    "dset = ImageNetDataset(dset_path, mean=[1,1,1], std=[1,1,1], ontology=ontology)\n",
    "concepts = ontology.to_list()"
   ]
  },
  {
   "cell_type": "markdown",
   "id": "3d487ef0-426f-4e52-a0b3-a34b50d70f02",
   "metadata": {},
   "source": [
    "## Dataset stats"
   ]
  },
  {
   "cell_type": "code",
   "execution_count": null,
   "id": "8fe7b97a-e54c-4999-8c24-d3b9558c75cb",
   "metadata": {},
   "outputs": [],
   "source": [
    "print(\n",
    "    f'Unique concepts: {len(concepts)}',\n",
    "    f'Propagated concepts: {len([c for c in concepts if c.propagated])}',\n",
    "    f'Dataset Size: {len(dset)}',\n",
    "    sep='\\n')"
   ]
  },
  {
   "cell_type": "markdown",
   "id": "48aa6f9c-56b8-4d2f-9058-5ba4c86af66d",
   "metadata": {},
   "source": [
    "## Select image"
   ]
  },
  {
   "cell_type": "code",
   "execution_count": null,
   "id": "3259a3c1-1d29-400a-958f-fbf4cbe48b62",
   "metadata": {},
   "outputs": [],
   "source": [
    "from torchvision.transforms import ToPILImage\n",
    "from torchvision.transforms import Resize\n",
    "import numpy as np\n",
    "import IPython"
   ]
  },
  {
   "cell_type": "code",
   "execution_count": null,
   "id": "43e40ea9-d1f0-4db5-938c-5c985a853b49",
   "metadata": {},
   "outputs": [],
   "source": [
    "img_idx = 0"
   ]
  },
  {
   "cell_type": "code",
   "execution_count": null,
   "id": "d8a41a80-2f0d-4ea1-a2d4-c2d59f87e61b",
   "metadata": {},
   "outputs": [],
   "source": [
    "_, img, masks = dset[img_idx]"
   ]
  },
  {
   "cell_type": "code",
   "execution_count": null,
   "id": "3e328620-355d-4e84-a70f-2f8aaa8793f1",
   "metadata": {},
   "outputs": [],
   "source": [
    "to_pil = ToPILImage()\n",
    "IPython.display.display(to_pil(img))"
   ]
  },
  {
   "cell_type": "markdown",
   "id": "7b455733-360e-4f7a-b59b-4ac645786f2b",
   "metadata": {},
   "source": [
    "## Select Concept"
   ]
  },
  {
   "cell_type": "code",
   "execution_count": null,
   "id": "f9fc56ed-390b-44b3-8876-2a268650e626",
   "metadata": {},
   "outputs": [],
   "source": [
    "img_concepts = masks.select_concepts(concepts)\n",
    "for i, c in enumerate(img_concepts):\n",
    "    print(i, c)"
   ]
  },
  {
   "cell_type": "code",
   "execution_count": null,
   "id": "667ab109-2987-48ff-871c-dc3fffe09e54",
   "metadata": {},
   "outputs": [],
   "source": [
    "c_idx = 1"
   ]
  },
  {
   "cell_type": "code",
   "execution_count": null,
   "id": "41f879ae-9358-488e-9bfa-4263ace8c093",
   "metadata": {},
   "outputs": [],
   "source": [
    "c_mask = masks.get_concept_mask(img_concepts[c_idx])"
   ]
  },
  {
   "cell_type": "code",
   "execution_count": null,
   "id": "4a3aa374-f437-41c9-b0a0-9d659a37558d",
   "metadata": {},
   "outputs": [],
   "source": [
    "if img.shape[1:] == c_mask.shape:\n",
    "    masked = img * c_mask\n",
    "    print('Same size')\n",
    "else:\n",
    "    to_cmask_size = Resize(c_mask.shape)\n",
    "    to_img_size = Resize(img.shape[1:])\n",
    "    masked = to_cmask_size(img)\n",
    "    masked = masked * c_mask\n",
    "    masked = to_img_size(masked)\n",
    "    print('Resized')"
   ]
  },
  {
   "cell_type": "code",
   "execution_count": null,
   "id": "c90e4a8c-8797-4dfd-b8a1-162fffc1fb7a",
   "metadata": {},
   "outputs": [],
   "source": [
    "IPython.display.display(to_pil(masked))"
   ]
  }
 ],
 "metadata": {
  "kernelspec": {
   "display_name": "Python 3 (ipykernel)",
   "language": "python",
   "name": "python3"
  },
  "language_info": {
   "codemirror_mode": {
    "name": "ipython",
    "version": 3
   },
   "file_extension": ".py",
   "mimetype": "text/x-python",
   "name": "python",
   "nbconvert_exporter": "python",
   "pygments_lexer": "ipython3",
   "version": "3.9.7"
  }
 },
 "nbformat": 4,
 "nbformat_minor": 5
}
